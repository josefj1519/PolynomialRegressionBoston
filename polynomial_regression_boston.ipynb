{
 "cells": [
  {
   "cell_type": "markdown",
   "metadata": {},
   "source": [
    "# CPSC 483 Project 2 - NumPy, Polynomial Regression, and Training validation\n",
    "#### by: Josef Jankowski(josefj1519@csu.fullerton.edu) and William Timani (williamtimani@csu.fullerton.edu)"
   ]
  },
  {
   "cell_type": "markdown",
   "metadata": {},
   "source": [
    "### 1. Load and examine the Boston dataset’s features, target values, and description."
   ]
  },
  {
   "cell_type": "code",
   "execution_count": 636,
   "metadata": {},
   "outputs": [
    {
     "name": "stdout",
     "output_type": "stream",
     "text": [
      ".. _boston_dataset:\n",
      "\n",
      "Boston house prices dataset\n",
      "---------------------------\n",
      "\n",
      "**Data Set Characteristics:**  \n",
      "\n",
      "    :Number of Instances: 506 \n",
      "\n",
      "    :Number of Attributes: 13 numeric/categorical predictive. Median Value (attribute 14) is usually the target.\n",
      "\n",
      "    :Attribute Information (in order):\n",
      "        - CRIM     per capita crime rate by town\n",
      "        - ZN       proportion of residential land zoned for lots over 25,000 sq.ft.\n",
      "        - INDUS    proportion of non-retail business acres per town\n",
      "        - CHAS     Charles River dummy variable (= 1 if tract bounds river; 0 otherwise)\n",
      "        - NOX      nitric oxides concentration (parts per 10 million)\n",
      "        - RM       average number of rooms per dwelling\n",
      "        - AGE      proportion of owner-occupied units built prior to 1940\n",
      "        - DIS      weighted distances to five Boston employment centres\n",
      "        - RAD      index of accessibility to radial highways\n",
      "        - TAX      full-value property-tax rate per $10,000\n",
      "        - PTRATIO  pupil-teacher ratio by town\n",
      "        - B        1000(Bk - 0.63)^2 where Bk is the proportion of blacks by town\n",
      "        - LSTAT    % lower status of the population\n",
      "        - MEDV     Median value of owner-occupied homes in $1000's\n",
      "\n",
      "    :Missing Attribute Values: None\n",
      "\n",
      "    :Creator: Harrison, D. and Rubinfeld, D.L.\n",
      "\n",
      "This is a copy of UCI ML housing dataset.\n",
      "https://archive.ics.uci.edu/ml/machine-learning-databases/housing/\n",
      "\n",
      "\n",
      "This dataset was taken from the StatLib library which is maintained at Carnegie Mellon University.\n",
      "\n",
      "The Boston house-price data of Harrison, D. and Rubinfeld, D.L. 'Hedonic\n",
      "prices and the demand for clean air', J. Environ. Economics & Management,\n",
      "vol.5, 81-102, 1978.   Used in Belsley, Kuh & Welsch, 'Regression diagnostics\n",
      "...', Wiley, 1980.   N.B. Various transformations are used in the table on\n",
      "pages 244-261 of the latter.\n",
      "\n",
      "The Boston house-price data has been used in many machine learning papers that address regression\n",
      "problems.   \n",
      "     \n",
      ".. topic:: References\n",
      "\n",
      "   - Belsley, Kuh & Welsch, 'Regression diagnostics: Identifying Influential Data and Sources of Collinearity', Wiley, 1980. 244-261.\n",
      "   - Quinlan,R. (1993). Combining Instance-Based and Model-Based Learning. In Proceedings on the Tenth International Conference of Machine Learning, 236-243, University of Massachusetts, Amherst. Morgan Kaufmann.\n",
      "\n"
     ]
    }
   ],
   "source": [
    "from sklearn import datasets\n",
    "dataset_boston = datasets.load_boston()\n",
    "print(dataset_boston.DESCR)"
   ]
  },
  {
   "cell_type": "markdown",
   "metadata": {},
   "source": [
    "### 2. Use sklearn.model_selection.train_test_split() to split the features and values into separate training and test sets. Use 80% of the original data as a training set, and 20% for testing."
   ]
  },
  {
   "cell_type": "code",
   "execution_count": 637,
   "metadata": {},
   "outputs": [],
   "source": [
    "import numpy as np\n",
    "import pandas as pd\n",
    "from sklearn.model_selection import train_test_split\n",
    "# Independent variables (i.e. features)\n",
    "df_boston_features = pd.DataFrame(data=dataset_boston.data, columns=dataset_boston.feature_names)\n",
    "df_boston_target = pd.DataFrame(data=dataset_boston.target, columns=['MEDV'])\n",
    "\n",
    "x_train, x_test, y_train, y_test = train_test_split(df_boston_features, df_boston_target, test_size=.2)"
   ]
  },
  {
   "cell_type": "markdown",
   "metadata": {},
   "source": [
    "### 3. Create a scatterplot of the training set showing the relationship between the feature LSTAT and the target value MEDV. Does the relationship appear to be linear?"
   ]
  },
  {
   "cell_type": "code",
   "execution_count": 638,
   "metadata": {},
   "outputs": [
    {
     "data": {
      "text/plain": [
       "<matplotlib.collections.PathCollection at 0x7f66b31846d0>"
      ]
     },
     "execution_count": 638,
     "metadata": {},
     "output_type": "execute_result"
    },
    {
     "data": {
      "image/png": "[encoded data removed]",
      "text/plain": [
       "<Figure size 432x288 with 1 Axes>"
      ]
     },
     "metadata": {
      "needs_background": "light"
     },
     "output_type": "display_data"
    }
   ],
   "source": [
    "import matplotlib.pyplot as plt\n",
    "\n",
    "plt.scatter(x_train['LSTAT'], y_train)"
   ]
  },
  {
   "cell_type": "markdown",
   "metadata": {},
   "source": [
    "The data is mostly linear.  With some outliers when LSTAT below 10."
   ]
  },
  {
   "cell_type": "markdown",
   "metadata": {},
   "source": [
    "### 4. With LSTAT as X and MEDV as t, use np.linalg.inv() to compute w for the training set. What is the equation for MEDV as a linear function of LSTAT?"
   ]
  },
  {
   "cell_type": "code",
   "execution_count": 639,
   "metadata": {},
   "outputs": [
    {
     "name": "stdout",
     "output_type": "stream",
     "text": [
      "y= 34.713011948197334-0.9736087127975894x\n"
     ]
    }
   ],
   "source": [
    "x_reshape_train = np.array(x_train['LSTAT']).reshape([-1,1])\n",
    "X = np.hstack((np.ones_like(x_reshape_train),x_reshape_train))\n",
    "t = np.array(y_train['MEDV']).reshape([-1,1])\n",
    "XX = np.dot(X.T,X)\n",
    "invXX = np.linalg.inv(XX)\n",
    "Xt = np.dot(X.T, t)\n",
    "w = np.dot(invXX, Xt)\n",
    "print('y= ' + str(w[0][0]) + str(w[1][0]) + 'x')"
   ]
  },
  {
   "cell_type": "markdown",
   "metadata": {},
   "source": [
    "### 5. Use w to add a line to your scatter plot from experiment (3). How well does the model appear to fit the training set?"
   ]
  },
  {
   "cell_type": "code",
   "execution_count": 640,
   "metadata": {},
   "outputs": [
    {
     "data": {
      "text/plain": [
       "Text(0, 0.5, 'MEDV')"
      ]
     },
     "execution_count": 640,
     "metadata": {},
     "output_type": "execute_result"
    },
    {
     "data": {
      "image/png": "[encoded data removed]",
      "text/plain": [
       "<Figure size 432x288 with 1 Axes>"
      ]
     },
     "metadata": {
      "needs_background": "light"
     },
     "output_type": "display_data"
    }
   ],
   "source": [
    "plt.scatter(x_train['LSTAT'], y_train)\n",
    "x = np.linspace(0, 40, 100)\n",
    "plt.plot(x, x*w[1][0]+ w[0][0], color='red')\n",
    "plt.xlabel('LSTAT')\n",
    "plt.ylabel('MEDV')"
   ]
  },
  {
   "cell_type": "markdown",
   "metadata": {},
   "source": [
    "### 6. Use w to find the response for each value of the LSTAT attribute in the test set, then compute the test MSE 𝓛 for the model."
   ]
  },
  {
   "cell_type": "code",
   "execution_count": 641,
   "metadata": {},
   "outputs": [
    {
     "name": "stdout",
     "output_type": "stream",
     "text": [
      "46.6579766713339\n"
     ]
    }
   ],
   "source": [
    "from sklearn.metrics import mean_squared_error\n",
    "\n",
    "test = np.array([])\n",
    "for x in x_test['LSTAT']:\n",
    "    test = np.append(test, x*w[1][0]+w[0][0])\n",
    "    \n",
    "mse = mean_squared_error(test, y_test, squared=True)\n",
    "print(mse)"
   ]
  },
  {
   "cell_type": "markdown",
   "metadata": {},
   "source": [
    "### 7. Now add an x2 column to LSTAT’s x column in the training set, then repeat experiments (4), (5), and (6) for MEDV as a quadratic function of LSTAT. Does the quadratic polynomial do a better job of predicting the values in the test set?"
   ]
  },
  {
   "cell_type": "code",
   "execution_count": 642,
   "metadata": {},
   "outputs": [
    {
     "name": "stdout",
     "output_type": "stream",
     "text": [
      "y= 43.49595164605219-2.4307627558149747x + 0.04640547075599599x^2\n"
     ]
    }
   ],
   "source": [
    "xsquared = np.square(x_train['LSTAT'])\n",
    "xsquared = np.array(xsquared).reshape([-1,1])\n",
    "X = np.hstack((np.ones_like(x_reshape_train),x_reshape_train, xsquared))\n",
    "t = np.array(y_train['MEDV']).reshape([-1,1])\n",
    "XX = np.dot(X.T,X)\n",
    "invXX = np.linalg.inv(XX)\n",
    "Xt = np.dot(X.T, t)\n",
    "w = np.dot(invXX, Xt)\n",
    "print('y= ' + str(w[0][0]) + str(w[1][0]) + 'x + ' + str(w[2][0]) + 'x^2')"
   ]
  },
  {
   "cell_type": "code",
   "execution_count": 643,
   "metadata": {},
   "outputs": [
    {
     "data": {
      "text/plain": [
       "Text(0, 0.5, 'MEDV')"
      ]
     },
     "execution_count": 643,
     "metadata": {},
     "output_type": "execute_result"
    },
    {
     "data": {
      "image/png": "[encoded data removed]",
      "text/plain": [
       "<Figure size 432x288 with 1 Axes>"
      ]
     },
     "metadata": {
      "needs_background": "light"
     },
     "output_type": "display_data"
    }
   ],
   "source": [
    "plt.scatter(x_train['LSTAT'], y_train)\n",
    "x = np.linspace(0, 40, 100)\n",
    "plt.plot(x, (x**2)*w[2][0]+x*w[1][0]+ w[0][0], color='red')\n",
    "plt.xlabel('LSTAT')\n",
    "plt.ylabel('MEDV')"
   ]
  },
  {
   "cell_type": "code",
   "execution_count": 644,
   "metadata": {},
   "outputs": [
    {
     "name": "stdout",
     "output_type": "stream",
     "text": [
      "39.095367971533605\n"
     ]
    }
   ],
   "source": [
    "test = np.array([])\n",
    "for x in x_test['LSTAT']:\n",
    "    test = np.append(test,(x**2)*w[2][0]+x*w[1][0]+w[0][0])\n",
    "    \n",
    "mse = mean_squared_error(test, y_test, squared=True)\n",
    "print(mse)"
   ]
  },
  {
   "cell_type": "markdown",
   "metadata": {},
   "source": [
    "It appears that the quadratic model does a better job of predicting the values. As it has a smaller MSE.  "
   ]
  },
  {
   "cell_type": "markdown",
   "metadata": {},
   "source": [
    "### 8. Repeat experiment (4) with all 13 input features as X and using np.linalg.solve(). (See the Appendix to Linear regression in vector and matrix format for details.) Does adding additional features improve the performance on the test set compared to using only LSTAT?"
   ]
  },
  {
   "cell_type": "code",
   "execution_count": 645,
   "metadata": {
    "scrolled": true
   },
   "outputs": [
    {
     "name": "stdout",
     "output_type": "stream",
     "text": [
      "y= (32.879834058706784) + (-0.1194459653365661x_1) + (0.0489292119874315x_2) + (0.0172466140721152x_3) + (2.392930628247413x_4) + (-15.453372905064844x_5) + (4.000920287503031x_6) + (-0.007660159547488361x_7) + (-1.5828430230218424x_8) + (0.28528182382277495x_9) + (-0.013290602882135611x_10) + (-0.8248202791846776x_11) + (0.010103744319146686x_12) + (-0.5265226768050139x_13) \n",
      "\n",
      "\n",
      "29.019401795926974\n"
     ]
    }
   ],
   "source": [
    "t = np.array(y_train['MEDV']).reshape([-1,1])\n",
    "x_reshape_test = np.array(np.ones_like(np.array(x_train['LSTAT']).reshape([-1,1])))\n",
    "for attr in x_train:\n",
    "    x_reshape_test = np.hstack((x_reshape_test, np.array(x_train[attr]).reshape([-1,1])))\n",
    "X = x_reshape_test\n",
    "XX = np.dot(X.T,X)\n",
    "Xt = np.dot(X.T,t)\n",
    "w = np.linalg.solve(XX,Xt)\n",
    "\n",
    "equation= 'y= '\n",
    "for i in range(w.size):\n",
    "    if  i != 0:\n",
    "        equation += '+ (' + str(w[i][0]) + 'x_' + str(i) + ') '\n",
    "    else:\n",
    "        equation += '(' + str(w[i][0]) + ') '\n",
    "print(equation)\n",
    "print('\\n')\n",
    "test = np.zeros(np.size(x_test, 0))\n",
    "xtest = np.array(x_test)\n",
    "for i in range(np.size(xtest, 0)):\n",
    "    test[i] = w[0][0]\n",
    "    for j in range(np.size(xtest, 1)):\n",
    "       test[i] += w[j+1][0]*xtest[i][j]\n",
    "\n",
    "mse = mean_squared_error(test, y_test['MEDV'], squared=True)\n",
    "print(mse)"
   ]
  },
  {
   "cell_type": "markdown",
   "metadata": {},
   "source": [
    "##### Adding additional features does seem to improve the performance on the test set compared to only using LSTAT"
   ]
  },
  {
   "cell_type": "markdown",
   "metadata": {},
   "source": [
    "### 9. Now add x2 columns for all 13 features, and repeat experiment (8). Does adding quadratic features improve the performance on the test set compared to using only linear features?"
   ]
  },
  {
   "cell_type": "code",
   "execution_count": 646,
   "metadata": {},
   "outputs": [
    {
     "name": "stdout",
     "output_type": "stream",
     "text": [
      "24.85299393313295\n"
     ]
    }
   ],
   "source": [
    "t = np.array(y_train['MEDV']).reshape([-1,1])\n",
    "for attr in x_train:\n",
    "    xsquared = np.square(x_train[attr])\n",
    "    xsquared = np.array(xsquared).reshape([-1,1])\n",
    "    x_reshape_test = np.hstack((x_reshape_test, xsquared))\n",
    "\n",
    "X = x_reshape_test\n",
    "XX = np.dot(X.T,X)\n",
    "Xt = np.dot(X.T,t)\n",
    "w = np.linalg.solve(XX,Xt)\n",
    "\n",
    "test = np.zeros(np.size(x_test, 0))\n",
    "xtest = np.array(x_test)\n",
    "for i in range(np.size(xtest, 0)):\n",
    "    test[i] = w[0][0]\n",
    "    for j in range(np.size(xtest, 1)):\n",
    "       test[i] += (w[j+1][0]*xtest[i][j]) + (w[j+14][0]*(xtest[i][j]**2))\n",
    "\n",
    "mse = mean_squared_error(test, y_test['MEDV'], squared=True)\n",
    "print(mse)"
   ]
  },
  {
   "cell_type": "markdown",
   "metadata": {},
   "source": [
    "##### Adding quadratic features does seem to improve the performance on the test set compared to only using LSTAT and additional Xs.  "
   ]
  },
  {
   "cell_type": "markdown",
   "metadata": {},
   "source": [
    "### 10. Compute the training MSE for experiments (8) and (9) and compare it to the test MSE. What explains the difference?"
   ]
  },
  {
   "cell_type": "code",
   "execution_count": 647,
   "metadata": {},
   "outputs": [
    {
     "name": "stdout",
     "output_type": "stream",
     "text": [
      "Extra variables Train MSE:  20.279197748796715\n"
     ]
    }
   ],
   "source": [
    "# Extra features\n",
    "t = np.array(y_train['MEDV']).reshape([-1,1])\n",
    "x_reshape_train = np.array(np.ones_like(np.array(x_train['LSTAT']).reshape([-1,1])))\n",
    "for attr in x_train:\n",
    "    x_reshape_train = np.hstack((x_reshape_train, np.array(x_train[attr]).reshape([-1,1])))\n",
    "X = x_reshape_train\n",
    "XX = np.dot(X.T,X)\n",
    "Xt = np.dot(X.T,t)\n",
    "w = np.linalg.solve(XX,Xt)\n",
    "\n",
    "train = np.zeros(np.size(x_train, 0))\n",
    "xtrain = np.array(x_train)\n",
    "for i in range(np.size(xtrain, 0)):\n",
    "    train[i] = w[0][0]\n",
    "    for j in range(np.size(xtrain, 1)):\n",
    "       train[i] += w[j+1][0]*xtrain[i][j]\n",
    "\n",
    "mse = mean_squared_error(train, y_train['MEDV'], squared=True)\n",
    "print('Extra variables Train MSE: ', mse)"
   ]
  },
  {
   "cell_type": "code",
   "execution_count": 648,
   "metadata": {},
   "outputs": [
    {
     "name": "stdout",
     "output_type": "stream",
     "text": [
      "Quadratic Train MSE:  11.969943228169951\n"
     ]
    }
   ],
   "source": [
    "# Quadratic\n",
    "t = np.array(y_train['MEDV']).reshape([-1,1])\n",
    "for attr in x_train:\n",
    "    xsquared = np.square(x_train[attr])\n",
    "    xsquared = np.array(xsquared).reshape([-1,1])\n",
    "    x_reshape_train = np.hstack((x_reshape_train, xsquared))\n",
    "\n",
    "X = x_reshape_train\n",
    "XX = np.dot(X.T,X)\n",
    "Xt = np.dot(X.T,t)\n",
    "w = np.linalg.solve(XX,Xt)\n",
    "\n",
    "\n",
    "train = np.zeros(np.size(x_train, 0))\n",
    "xtrain = np.array(x_train)\n",
    "for i in range(np.size(xtrain, 0)):\n",
    "    train[i] = w[0][0]\n",
    "    for j in range(np.size(xtest, 1)):\n",
    "       train[i] += (w[j+1][0]*xtrain[i][j]) + (w[j+14][0]*(xtrain[i][j]**2))\n",
    "\n",
    "mse = mean_squared_error(train, y_train['MEDV'], squared=True)\n",
    "print('Quadratic Train MSE: ', mse)"
   ]
  },
  {
   "cell_type": "markdown",
   "metadata": {},
   "source": [
    "##### Training MSE is overall lower because the equation currently overfits the data.  "
   ]
  },
  {
   "cell_type": "markdown",
   "metadata": {},
   "source": [
    "### 11. Repeat experiments (9) and (10), adding x3 columns in addition to the existing x and x2 columns for each feature. Does the cubic polynomial do a better job of predicting the values in the training set? Does it do a better job of predicting the values in the test set?"
   ]
  },
  {
   "cell_type": "code",
   "execution_count": 649,
   "metadata": {},
   "outputs": [
    {
     "name": "stdout",
     "output_type": "stream",
     "text": [
      "Cubed Test MSE:  1459279.1210026199\n",
      "Cubed Train MSE:  2315451.2296099323\n"
     ]
    }
   ],
   "source": [
    "t = np.array(y_train['MEDV']).reshape([-1,1])\n",
    "for attr in x_train:\n",
    "    xcubed = np.power(x_train[attr], 3)\n",
    "    xcubed = np.array(xcubed).reshape([-1,1])\n",
    "    x_reshape_test = np.hstack((x_reshape_test, xcubed))\n",
    "    \n",
    "X = x_reshape_test\n",
    "XX = np.dot(X.T,X)\n",
    "Xt = np.dot(X.T,t)\n",
    "w = np.linalg.solve(XX,Xt)\n",
    "\n",
    "test = np.zeros(np.size(x_test, 0))\n",
    "xtest = np.array(x_test)\n",
    "for i in range(np.size(xtest, 0)):\n",
    "    test[i] = w[0][0]\n",
    "    for j in range(np.size(xtest, 1)):\n",
    "        test[i] += w[j+1][0]*(xtest[i][j])\n",
    "        test[i] += w[j+14][0]*(xtest[i][j]**2) \n",
    "        test[i] += w[j+27][0]*(xtest[i][j]**3)\n",
    "        \n",
    "mse = mean_squared_error(test, y_test['MEDV'], squared=True)\n",
    "print('Cubed Test MSE: ', mse)\n",
    "\n",
    "# Train MSE\n",
    "for attr in x_train:\n",
    "    xcubed = np.power(x_train[attr], 3)\n",
    "    xcubed = np.array(xcubed).reshape([-1,1])\n",
    "    x_reshape_train = np.hstack((x_reshape_train, xcubed))\n",
    "\n",
    "X = x_reshape_train\n",
    "XX = np.dot(X.T,X)\n",
    "Xt = np.dot(X.T,t)\n",
    "w = np.linalg.solve(XX,Xt)\n",
    "\n",
    "\n",
    "train = np.zeros(np.size(x_train, 0))\n",
    "xtrain = np.array(x_train)\n",
    "for i in range(np.size(xtrain, 0)):\n",
    "    train[i] = w[0][0]\n",
    "    for j in range(np.size(xtest, 1)):\n",
    "        train[i] += w[j+1][0]*(xtrain[i][j])\n",
    "        train[i] += w[j+14][0]*(xtrain[i][j]**2) \n",
    "        train[i] += w[j+27][0]*(xtrain[i][j]**3)\n",
    "\n",
    "mse = mean_squared_error(train, y_train['MEDV'], squared=True)\n",
    "print('Cubed Train MSE: ', mse)"
   ]
  }
 ],
 "metadata": {
  "kernelspec": {
   "display_name": "Python 3",
   "language": "python",
   "name": "python3"
  },
  "language_info": {
   "codemirror_mode": {
    "name": "ipython",
    "version": 3
   },
   "file_extension": ".py",
   "mimetype": "text/x-python",
   "name": "python",
   "nbconvert_exporter": "python",
   "pygments_lexer": "ipython3",
   "version": "3.7.6"
  }
 },
 "nbformat": 4,
 "nbformat_minor": 4
}
